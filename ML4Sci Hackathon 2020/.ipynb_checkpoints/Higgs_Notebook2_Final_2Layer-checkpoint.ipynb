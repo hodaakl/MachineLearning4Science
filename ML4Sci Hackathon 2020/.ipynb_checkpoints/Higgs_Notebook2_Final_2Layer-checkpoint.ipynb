{
  "nbformat": 4,
  "nbformat_minor": 0,
  "metadata": {
    "colab": {
      "name": "Higgs_Notebook2.ipynb",
      "provenance": []
    },
    "kernelspec": {
      "name": "python3",
      "display_name": "Python 3"
    }
  },
  "cells": [
    {
      "cell_type": "markdown",
      "metadata": {
        "id": "BrYhreazNjEb"
      },
      "source": [
        "Group: \n",
        "- Hoda Akl \n",
        "- Ritesh Chowdhry \n",
        "- Prasanth Shyamsundar "
      ]
    },
    {
      "cell_type": "code",
      "metadata": {
        "id": "Mwns2v8pNv04"
      },
      "source": [
        "# Higgs Challenge"
      ],
      "execution_count": null,
      "outputs": []
    },
    {
      "cell_type": "markdown",
      "metadata": {
        "id": "6DGam_LYNz9K"
      },
      "source": [
        "# Higgs Challenge"
      ]
    },
    {
      "cell_type": "markdown",
      "metadata": {
        "id": "sVL44DqVNwJN"
      },
      "source": [
        ""
      ]
    },
    {
      "cell_type": "code",
      "metadata": {
        "id": "jj-cfzvFVL2S"
      },
      "source": [
        "# Importing the stuff \n",
        "from sklearn.model_selection import train_test_split\n",
        "import pandas as pd\n",
        "import numpy as np\n",
        "import numpy as np\n",
        "np.random.seed(1337)  # for reproducibility\n",
        "import h5py\n",
        "from keras.models import Sequential\n",
        "from keras.optimizers import Adam\n",
        "from keras.initializers import TruncatedNormal\n",
        "from keras.layers import Input, Dense, Dropout, Flatten, Conv2D, MaxPooling2D\n",
        "from keras.callbacks import ReduceLROnPlateau\n",
        "\n",
        "from sklearn.metrics import roc_curve, auc\n",
        "\n",
        "import matplotlib.pyplot as plt\n",
        "from keras.utils.np_utils import to_categorical\n",
        "from sklearn.preprocessing import MinMaxScaler\n",
        "# scl = MinMaxScaler() # for scaling the data\n",
        "from keras.callbacks import EarlyStopping, ModelCheckpoint\n",
        "from keras import models \n",
        "from keras import layers \n",
        "from keras import initializers\n",
        "from keras.models import load_model\n",
        "import os\n",
        "\n",
        "import tensorflow as tf\n",
        "from tensorflow import keras\n"
      ],
      "execution_count": 1,
      "outputs": []
    },
    {
      "cell_type": "code",
      "metadata": {
        "id": "flZ8u5FVNVcj"
      },
      "source": [
        ""
      ],
      "execution_count": null,
      "outputs": []
    },
    {
      "cell_type": "markdown",
      "metadata": {
        "id": "KmMu-95yN3Nb"
      },
      "source": [
        "Downloading data"
      ]
    },
    {
      "cell_type": "code",
      "metadata": {
        "id": "aBp8wnPUg2QY",
        "outputId": "3c497260-b4ea-48a5-d12a-68ba12ea062e",
        "colab": {
          "base_uri": "https://localhost:8080/"
        }
      },
      "source": [
        "!wget https://archive.ics.uci.edu/ml/machine-learning-databases/00280/HIGGS.csv.gz"
      ],
      "execution_count": 2,
      "outputs": [
        {
          "output_type": "stream",
          "text": [
            "--2020-10-30 13:06:23--  https://archive.ics.uci.edu/ml/machine-learning-databases/00280/HIGGS.csv.gz\n",
            "Resolving archive.ics.uci.edu (archive.ics.uci.edu)... 128.195.10.252\n",
            "Connecting to archive.ics.uci.edu (archive.ics.uci.edu)|128.195.10.252|:443... connected.\n",
            "HTTP request sent, awaiting response... 200 OK\n",
            "Length: 2816407858 (2.6G) [application/x-httpd-php]\n",
            "Saving to: ‘HIGGS.csv.gz’\n",
            "\n",
            "HIGGS.csv.gz        100%[===================>]   2.62G  95.0MB/s    in 28s     \n",
            "\n",
            "2020-10-30 13:06:52 (94.4 MB/s) - ‘HIGGS.csv.gz’ saved [2816407858/2816407858]\n",
            "\n"
          ],
          "name": "stdout"
        }
      ]
    },
    {
      "cell_type": "code",
      "metadata": {
        "id": "xZmNqi88WAQw"
      },
      "source": [
        " !gzip -d HIGGS.csv.gz"
      ],
      "execution_count": 3,
      "outputs": []
    },
    {
      "cell_type": "code",
      "metadata": {
        "id": "Jn192_NvWAWi"
      },
      "source": [
        "######### loading the data  - this takes time\n",
        "data=pd.read_csv('./HIGGS.csv')"
      ],
      "execution_count": 4,
      "outputs": []
    },
    {
      "cell_type": "markdown",
      "metadata": {
        "id": "CzpUcSJiN6Zy"
      },
      "source": [
        "Loading data "
      ]
    },
    {
      "cell_type": "code",
      "metadata": {
        "id": "JwZ0SgaVVnXu"
      },
      "source": [
        "\n",
        "# X=data.iloc[:1000,1:].values\n",
        "X = data.iloc[:,1:]\n",
        "# y=data.iloc[:1000,0].values\n",
        "y = data.iloc[:,0]\n",
        "########## scaling the data \n",
        "scl = MinMaxScaler() # for scaling the data\n",
        "X_Sc = scl.fit_transform(X)\n",
        "########## one hot encoding the y \n",
        "from keras.utils.np_utils import to_categorical\n",
        "num_classes = len(np.unique(y))\n",
        "Y_oneHot = to_categorical(y )\n",
        "########## splitting \n",
        "X_train1, X_val, y_train1, y_val = train_test_split(X_Sc, Y_oneHot, test_size=0.2, random_state=42)\n",
        "X_train, X_test, y_train, y_test = train_test_split(X_train1, y_train1, test_size=0.2, random_state=42)"
      ],
      "execution_count": 5,
      "outputs": []
    },
    {
      "cell_type": "markdown",
      "metadata": {
        "id": "R7wT0tG3N8XJ"
      },
      "source": [
        "# Making the model and training \n",
        "The notebook crashed in the middle of training, so I loaded the saved model and continued training. "
      ]
    },
    {
      "cell_type": "code",
      "metadata": {
        "id": "qMKG6bAoWFML",
        "outputId": "704ef4ab-8710-4d0f-f713-37da48d9a6ab",
        "colab": {
          "base_uri": "https://localhost:8080/",
          "height": 1000
        }
      },
      "source": [
        "from keras.layers import BatchNormalization\n",
        "## New model \n",
        "# SavePath = '4layer_100n.h5'\n",
        "nhidden1 = 100; nhidden2 = 50; batchnum = 200; epochs=100; StopCriteria = 'val_loss';\n",
        "nout = 2; #number of output nodes\n",
        "SavePath = 'Higgs_Model_2layer.h5'\n",
        "network2 = models.Sequential()\n",
        "network2.add(layers.Dense(nhidden1,activation='sigmoid',input_shape=(X_train.shape[1],)))\n",
        "network2.add(BatchNormalization())\n",
        "network2.add(layers.Dense(nhidden2,activation='sigmoid',input_shape=(nhidden1,)))\n",
        "network2.add(BatchNormalization())\n",
        "network2.add(layers.Dense(nout, activation = 'softmax'))\n",
        "network2.compile(optimizer='adam',loss='categorical_crossentropy',metrics=['accuracy'])\n",
        "#     network.save_weights('model_init.h5')\n",
        "callbacks = [EarlyStopping(monitor=StopCriteria, patience=10),\n",
        "        ModelCheckpoint(filepath=SavePath, monitor=StopCriteria, save_best_only=True)]\n",
        "history2 = network2.fit(X_train,y_train,\n",
        "                  epochs=epochs,\n",
        "                  batch_size=batchnum,\n",
        "                  callbacks=callbacks, # Early stopping\n",
        "                  validation_data=(X_val,y_val),\n",
        "                    verbose = 1)"
      ],
      "execution_count": 6,
      "outputs": [
        {
          "output_type": "stream",
          "text": [
            "Epoch 1/100\n",
            "35200/35200 [==============================] - 89s 3ms/step - loss: 0.5643 - accuracy: 0.7035 - val_loss: 0.5350 - val_accuracy: 0.7269\n",
            "Epoch 2/100\n",
            "35200/35200 [==============================] - 89s 3ms/step - loss: 0.5309 - accuracy: 0.7300 - val_loss: 0.5331 - val_accuracy: 0.7281\n",
            "Epoch 3/100\n",
            "35200/35200 [==============================] - 93s 3ms/step - loss: 0.5259 - accuracy: 0.7336 - val_loss: 0.5218 - val_accuracy: 0.7357\n",
            "Epoch 4/100\n",
            "35200/35200 [==============================] - 93s 3ms/step - loss: 0.5214 - accuracy: 0.7369 - val_loss: 0.5208 - val_accuracy: 0.7370\n",
            "Epoch 5/100\n",
            "35200/35200 [==============================] - 93s 3ms/step - loss: 0.5178 - accuracy: 0.7395 - val_loss: 0.5130 - val_accuracy: 0.7424\n",
            "Epoch 6/100\n",
            "35200/35200 [==============================] - 94s 3ms/step - loss: 0.5147 - accuracy: 0.7418 - val_loss: 0.5119 - val_accuracy: 0.7429\n",
            "Epoch 7/100\n",
            "35200/35200 [==============================] - 92s 3ms/step - loss: 0.5121 - accuracy: 0.7435 - val_loss: 0.5081 - val_accuracy: 0.7460\n",
            "Epoch 8/100\n",
            "35200/35200 [==============================] - 91s 3ms/step - loss: 0.5098 - accuracy: 0.7451 - val_loss: 0.5064 - val_accuracy: 0.7472\n",
            "Epoch 9/100\n",
            "35200/35200 [==============================] - 95s 3ms/step - loss: 0.5081 - accuracy: 0.7461 - val_loss: 0.5043 - val_accuracy: 0.7489\n",
            "Epoch 10/100\n",
            "35200/35200 [==============================] - 90s 3ms/step - loss: 0.5067 - accuracy: 0.7471 - val_loss: 0.5048 - val_accuracy: 0.7483\n",
            "Epoch 11/100\n",
            "35200/35200 [==============================] - 92s 3ms/step - loss: 0.5055 - accuracy: 0.7479 - val_loss: 0.5035 - val_accuracy: 0.7487\n",
            "Epoch 12/100\n",
            "35200/35200 [==============================] - 93s 3ms/step - loss: 0.5044 - accuracy: 0.7487 - val_loss: 0.4999 - val_accuracy: 0.7515\n",
            "Epoch 13/100\n",
            "35200/35200 [==============================] - 94s 3ms/step - loss: 0.5034 - accuracy: 0.7493 - val_loss: 0.5010 - val_accuracy: 0.7512\n",
            "Epoch 14/100\n",
            "35200/35200 [==============================] - 90s 3ms/step - loss: 0.5024 - accuracy: 0.7500 - val_loss: 0.4993 - val_accuracy: 0.7521\n",
            "Epoch 15/100\n",
            "35200/35200 [==============================] - 90s 3ms/step - loss: 0.5016 - accuracy: 0.7505 - val_loss: 0.4979 - val_accuracy: 0.7527\n",
            "Epoch 16/100\n",
            "35200/35200 [==============================] - 91s 3ms/step - loss: 0.5008 - accuracy: 0.7511 - val_loss: 0.4985 - val_accuracy: 0.7523\n",
            "Epoch 17/100\n",
            "35200/35200 [==============================] - 90s 3ms/step - loss: 0.5001 - accuracy: 0.7515 - val_loss: 0.4977 - val_accuracy: 0.7528\n",
            "Epoch 18/100\n",
            "35200/35200 [==============================] - 89s 3ms/step - loss: 0.4995 - accuracy: 0.7518 - val_loss: 0.4979 - val_accuracy: 0.7526\n",
            "Epoch 19/100\n",
            "35200/35200 [==============================] - 92s 3ms/step - loss: 0.4989 - accuracy: 0.7522 - val_loss: 0.4971 - val_accuracy: 0.7532\n",
            "Epoch 20/100\n",
            "35200/35200 [==============================] - 90s 3ms/step - loss: 0.4985 - accuracy: 0.7525 - val_loss: 0.4946 - val_accuracy: 0.7547\n",
            "Epoch 21/100\n",
            "35200/35200 [==============================] - 89s 3ms/step - loss: 0.4979 - accuracy: 0.7529 - val_loss: 0.4982 - val_accuracy: 0.7524\n",
            "Epoch 22/100\n",
            "35200/35200 [==============================] - 89s 3ms/step - loss: 0.4974 - accuracy: 0.7532 - val_loss: 0.4952 - val_accuracy: 0.7549\n",
            "Epoch 23/100\n",
            "35200/35200 [==============================] - 90s 3ms/step - loss: 0.4970 - accuracy: 0.7535 - val_loss: 0.4932 - val_accuracy: 0.7558\n",
            "Epoch 24/100\n",
            "35200/35200 [==============================] - 90s 3ms/step - loss: 0.4966 - accuracy: 0.7539 - val_loss: 0.4931 - val_accuracy: 0.7559\n",
            "Epoch 25/100\n",
            "35200/35200 [==============================] - 89s 3ms/step - loss: 0.4960 - accuracy: 0.7541 - val_loss: 0.4943 - val_accuracy: 0.7555\n",
            "Epoch 26/100\n",
            "35200/35200 [==============================] - 90s 3ms/step - loss: 0.4956 - accuracy: 0.7544 - val_loss: 0.4920 - val_accuracy: 0.7566\n",
            "Epoch 27/100\n",
            "35200/35200 [==============================] - 90s 3ms/step - loss: 0.4952 - accuracy: 0.7545 - val_loss: 0.4932 - val_accuracy: 0.7556\n",
            "Epoch 28/100\n",
            "35200/35200 [==============================] - 90s 3ms/step - loss: 0.4949 - accuracy: 0.7548 - val_loss: 0.4920 - val_accuracy: 0.7567\n",
            "Epoch 29/100\n",
            "35200/35200 [==============================] - 89s 3ms/step - loss: 0.4945 - accuracy: 0.7551 - val_loss: 0.4935 - val_accuracy: 0.7559\n",
            "Epoch 30/100\n",
            "35200/35200 [==============================] - 93s 3ms/step - loss: 0.4942 - accuracy: 0.7554 - val_loss: 0.4903 - val_accuracy: 0.7575\n",
            "Epoch 31/100\n",
            "35200/35200 [==============================] - 90s 3ms/step - loss: 0.4939 - accuracy: 0.7554 - val_loss: 0.4906 - val_accuracy: 0.7574\n",
            "Epoch 32/100\n",
            "35200/35200 [==============================] - 89s 3ms/step - loss: 0.4935 - accuracy: 0.7557 - val_loss: 0.4905 - val_accuracy: 0.7577\n",
            "Epoch 33/100\n",
            "35200/35200 [==============================] - 91s 3ms/step - loss: 0.4933 - accuracy: 0.7557 - val_loss: 0.4897 - val_accuracy: 0.7583\n",
            "Epoch 34/100\n",
            "35200/35200 [==============================] - 92s 3ms/step - loss: 0.4930 - accuracy: 0.7561 - val_loss: 0.4901 - val_accuracy: 0.7580\n",
            "Epoch 35/100\n",
            "35200/35200 [==============================] - 90s 3ms/step - loss: 0.4927 - accuracy: 0.7562 - val_loss: 0.4898 - val_accuracy: 0.7578\n",
            "Epoch 36/100\n",
            "35200/35200 [==============================] - 89s 3ms/step - loss: 0.4924 - accuracy: 0.7564 - val_loss: 0.4886 - val_accuracy: 0.7587\n",
            "Epoch 37/100\n",
            "35200/35200 [==============================] - 91s 3ms/step - loss: 0.4922 - accuracy: 0.7565 - val_loss: 0.4883 - val_accuracy: 0.7589\n",
            "Epoch 38/100\n",
            "35200/35200 [==============================] - 89s 3ms/step - loss: 0.4919 - accuracy: 0.7568 - val_loss: 0.4886 - val_accuracy: 0.7590\n",
            "Epoch 39/100\n",
            "35200/35200 [==============================] - 92s 3ms/step - loss: 0.4916 - accuracy: 0.7569 - val_loss: 0.4887 - val_accuracy: 0.7584\n",
            "Epoch 40/100\n",
            "35200/35200 [==============================] - 92s 3ms/step - loss: 0.4912 - accuracy: 0.7572 - val_loss: 0.4901 - val_accuracy: 0.7575\n",
            "Epoch 41/100\n",
            "35200/35200 [==============================] - 91s 3ms/step - loss: 0.4910 - accuracy: 0.7573 - val_loss: 0.4892 - val_accuracy: 0.7580\n",
            "Epoch 42/100\n",
            "35200/35200 [==============================] - 91s 3ms/step - loss: 0.4908 - accuracy: 0.7575 - val_loss: 0.4873 - val_accuracy: 0.7593\n",
            "Epoch 43/100\n",
            "35200/35200 [==============================] - 89s 3ms/step - loss: 0.4905 - accuracy: 0.7576 - val_loss: 0.4868 - val_accuracy: 0.7595\n",
            "Epoch 44/100\n",
            "35200/35200 [==============================] - 89s 3ms/step - loss: 0.4903 - accuracy: 0.7578 - val_loss: 0.4902 - val_accuracy: 0.7573\n",
            "Epoch 45/100\n",
            "35200/35200 [==============================] - 88s 3ms/step - loss: 0.4902 - accuracy: 0.7578 - val_loss: 0.4860 - val_accuracy: 0.7602\n",
            "Epoch 46/100\n",
            "35200/35200 [==============================] - 89s 3ms/step - loss: 0.4900 - accuracy: 0.7580 - val_loss: 0.4879 - val_accuracy: 0.7596\n",
            "Epoch 47/100\n",
            "35200/35200 [==============================] - 90s 3ms/step - loss: 0.4898 - accuracy: 0.7581 - val_loss: 0.4874 - val_accuracy: 0.7593\n",
            "Epoch 48/100\n",
            "35200/35200 [==============================] - 88s 3ms/step - loss: 0.4896 - accuracy: 0.7582 - val_loss: 0.4878 - val_accuracy: 0.7591\n",
            "Epoch 49/100\n",
            "35200/35200 [==============================] - 88s 3ms/step - loss: 0.4894 - accuracy: 0.7583 - val_loss: 0.4881 - val_accuracy: 0.7590\n",
            "Epoch 50/100\n",
            "35200/35200 [==============================] - 88s 3ms/step - loss: 0.4892 - accuracy: 0.7584 - val_loss: 0.4883 - val_accuracy: 0.7585\n",
            "Epoch 51/100\n",
            "35200/35200 [==============================] - 90s 3ms/step - loss: 0.4891 - accuracy: 0.7586 - val_loss: 0.4860 - val_accuracy: 0.7607\n",
            "Epoch 52/100\n",
            "35200/35200 [==============================] - 89s 3ms/step - loss: 0.4889 - accuracy: 0.7585 - val_loss: 0.4858 - val_accuracy: 0.7607\n",
            "Epoch 53/100\n",
            "35200/35200 [==============================] - 89s 3ms/step - loss: 0.4888 - accuracy: 0.7587 - val_loss: 0.4848 - val_accuracy: 0.7614\n",
            "Epoch 54/100\n",
            "35200/35200 [==============================] - 91s 3ms/step - loss: 0.4886 - accuracy: 0.7588 - val_loss: 0.4859 - val_accuracy: 0.7605\n",
            "Epoch 55/100\n",
            "35200/35200 [==============================] - 89s 3ms/step - loss: 0.4885 - accuracy: 0.7588 - val_loss: 0.4851 - val_accuracy: 0.7610\n",
            "Epoch 56/100\n",
            "35200/35200 [==============================] - 88s 3ms/step - loss: 0.4883 - accuracy: 0.7589 - val_loss: 0.4853 - val_accuracy: 0.7608\n",
            "Epoch 57/100\n",
            "35200/35200 [==============================] - 89s 3ms/step - loss: 0.4882 - accuracy: 0.7589 - val_loss: 0.4844 - val_accuracy: 0.7613\n",
            "Epoch 58/100\n",
            "35200/35200 [==============================] - 90s 3ms/step - loss: 0.4880 - accuracy: 0.7591 - val_loss: 0.4843 - val_accuracy: 0.7616\n",
            "Epoch 59/100\n",
            "35200/35200 [==============================] - 88s 3ms/step - loss: 0.4878 - accuracy: 0.7593 - val_loss: 0.4859 - val_accuracy: 0.7607\n",
            "Epoch 60/100\n",
            " 7373/35200 [=====>........................] - ETA: 1:01 - loss: 0.4881 - accuracy: 0.7592"
          ],
          "name": "stdout"
        },
        {
          "output_type": "error",
          "ename": "KeyboardInterrupt",
          "evalue": "ignored",
          "traceback": [
            "\u001b[0;31m---------------------------------------------------------------------------\u001b[0m",
            "\u001b[0;31mKeyboardInterrupt\u001b[0m                         Traceback (most recent call last)",
            "\u001b[0;32m<ipython-input-6-8b0c350c543a>\u001b[0m in \u001b[0;36m<module>\u001b[0;34m()\u001b[0m\n\u001b[1;32m     19\u001b[0m                   \u001b[0mcallbacks\u001b[0m\u001b[0;34m=\u001b[0m\u001b[0mcallbacks\u001b[0m\u001b[0;34m,\u001b[0m \u001b[0;31m# Early stopping\u001b[0m\u001b[0;34m\u001b[0m\u001b[0;34m\u001b[0m\u001b[0m\n\u001b[1;32m     20\u001b[0m                   \u001b[0mvalidation_data\u001b[0m\u001b[0;34m=\u001b[0m\u001b[0;34m(\u001b[0m\u001b[0mX_val\u001b[0m\u001b[0;34m,\u001b[0m\u001b[0my_val\u001b[0m\u001b[0;34m)\u001b[0m\u001b[0;34m,\u001b[0m\u001b[0;34m\u001b[0m\u001b[0;34m\u001b[0m\u001b[0m\n\u001b[0;32m---> 21\u001b[0;31m                     verbose = 1)\n\u001b[0m",
            "\u001b[0;32m/usr/local/lib/python3.6/dist-packages/tensorflow/python/keras/engine/training.py\u001b[0m in \u001b[0;36m_method_wrapper\u001b[0;34m(self, *args, **kwargs)\u001b[0m\n\u001b[1;32m    106\u001b[0m   \u001b[0;32mdef\u001b[0m \u001b[0m_method_wrapper\u001b[0m\u001b[0;34m(\u001b[0m\u001b[0mself\u001b[0m\u001b[0;34m,\u001b[0m \u001b[0;34m*\u001b[0m\u001b[0margs\u001b[0m\u001b[0;34m,\u001b[0m \u001b[0;34m**\u001b[0m\u001b[0mkwargs\u001b[0m\u001b[0;34m)\u001b[0m\u001b[0;34m:\u001b[0m\u001b[0;34m\u001b[0m\u001b[0;34m\u001b[0m\u001b[0m\n\u001b[1;32m    107\u001b[0m     \u001b[0;32mif\u001b[0m \u001b[0;32mnot\u001b[0m \u001b[0mself\u001b[0m\u001b[0;34m.\u001b[0m\u001b[0m_in_multi_worker_mode\u001b[0m\u001b[0;34m(\u001b[0m\u001b[0;34m)\u001b[0m\u001b[0;34m:\u001b[0m  \u001b[0;31m# pylint: disable=protected-access\u001b[0m\u001b[0;34m\u001b[0m\u001b[0;34m\u001b[0m\u001b[0m\n\u001b[0;32m--> 108\u001b[0;31m       \u001b[0;32mreturn\u001b[0m \u001b[0mmethod\u001b[0m\u001b[0;34m(\u001b[0m\u001b[0mself\u001b[0m\u001b[0;34m,\u001b[0m \u001b[0;34m*\u001b[0m\u001b[0margs\u001b[0m\u001b[0;34m,\u001b[0m \u001b[0;34m**\u001b[0m\u001b[0mkwargs\u001b[0m\u001b[0;34m)\u001b[0m\u001b[0;34m\u001b[0m\u001b[0;34m\u001b[0m\u001b[0m\n\u001b[0m\u001b[1;32m    109\u001b[0m \u001b[0;34m\u001b[0m\u001b[0m\n\u001b[1;32m    110\u001b[0m     \u001b[0;31m# Running inside `run_distribute_coordinator` already.\u001b[0m\u001b[0;34m\u001b[0m\u001b[0;34m\u001b[0m\u001b[0;34m\u001b[0m\u001b[0m\n",
            "\u001b[0;32m/usr/local/lib/python3.6/dist-packages/tensorflow/python/keras/engine/training.py\u001b[0m in \u001b[0;36mfit\u001b[0;34m(self, x, y, batch_size, epochs, verbose, callbacks, validation_split, validation_data, shuffle, class_weight, sample_weight, initial_epoch, steps_per_epoch, validation_steps, validation_batch_size, validation_freq, max_queue_size, workers, use_multiprocessing)\u001b[0m\n\u001b[1;32m   1096\u001b[0m                 batch_size=batch_size):\n\u001b[1;32m   1097\u001b[0m               \u001b[0mcallbacks\u001b[0m\u001b[0;34m.\u001b[0m\u001b[0mon_train_batch_begin\u001b[0m\u001b[0;34m(\u001b[0m\u001b[0mstep\u001b[0m\u001b[0;34m)\u001b[0m\u001b[0;34m\u001b[0m\u001b[0;34m\u001b[0m\u001b[0m\n\u001b[0;32m-> 1098\u001b[0;31m               \u001b[0mtmp_logs\u001b[0m \u001b[0;34m=\u001b[0m \u001b[0mtrain_function\u001b[0m\u001b[0;34m(\u001b[0m\u001b[0miterator\u001b[0m\u001b[0;34m)\u001b[0m\u001b[0;34m\u001b[0m\u001b[0;34m\u001b[0m\u001b[0m\n\u001b[0m\u001b[1;32m   1099\u001b[0m               \u001b[0;32mif\u001b[0m \u001b[0mdata_handler\u001b[0m\u001b[0;34m.\u001b[0m\u001b[0mshould_sync\u001b[0m\u001b[0;34m:\u001b[0m\u001b[0;34m\u001b[0m\u001b[0;34m\u001b[0m\u001b[0m\n\u001b[1;32m   1100\u001b[0m                 \u001b[0mcontext\u001b[0m\u001b[0;34m.\u001b[0m\u001b[0masync_wait\u001b[0m\u001b[0;34m(\u001b[0m\u001b[0;34m)\u001b[0m\u001b[0;34m\u001b[0m\u001b[0;34m\u001b[0m\u001b[0m\n",
            "\u001b[0;32m/usr/local/lib/python3.6/dist-packages/tensorflow/python/eager/def_function.py\u001b[0m in \u001b[0;36m__call__\u001b[0;34m(self, *args, **kwds)\u001b[0m\n\u001b[1;32m    778\u001b[0m       \u001b[0;32melse\u001b[0m\u001b[0;34m:\u001b[0m\u001b[0;34m\u001b[0m\u001b[0;34m\u001b[0m\u001b[0m\n\u001b[1;32m    779\u001b[0m         \u001b[0mcompiler\u001b[0m \u001b[0;34m=\u001b[0m \u001b[0;34m\"nonXla\"\u001b[0m\u001b[0;34m\u001b[0m\u001b[0;34m\u001b[0m\u001b[0m\n\u001b[0;32m--> 780\u001b[0;31m         \u001b[0mresult\u001b[0m \u001b[0;34m=\u001b[0m \u001b[0mself\u001b[0m\u001b[0;34m.\u001b[0m\u001b[0m_call\u001b[0m\u001b[0;34m(\u001b[0m\u001b[0;34m*\u001b[0m\u001b[0margs\u001b[0m\u001b[0;34m,\u001b[0m \u001b[0;34m**\u001b[0m\u001b[0mkwds\u001b[0m\u001b[0;34m)\u001b[0m\u001b[0;34m\u001b[0m\u001b[0;34m\u001b[0m\u001b[0m\n\u001b[0m\u001b[1;32m    781\u001b[0m \u001b[0;34m\u001b[0m\u001b[0m\n\u001b[1;32m    782\u001b[0m       \u001b[0mnew_tracing_count\u001b[0m \u001b[0;34m=\u001b[0m \u001b[0mself\u001b[0m\u001b[0;34m.\u001b[0m\u001b[0m_get_tracing_count\u001b[0m\u001b[0;34m(\u001b[0m\u001b[0;34m)\u001b[0m\u001b[0;34m\u001b[0m\u001b[0;34m\u001b[0m\u001b[0m\n",
            "\u001b[0;32m/usr/local/lib/python3.6/dist-packages/tensorflow/python/eager/def_function.py\u001b[0m in \u001b[0;36m_call\u001b[0;34m(self, *args, **kwds)\u001b[0m\n\u001b[1;32m    805\u001b[0m       \u001b[0;31m# In this case we have created variables on the first call, so we run the\u001b[0m\u001b[0;34m\u001b[0m\u001b[0;34m\u001b[0m\u001b[0;34m\u001b[0m\u001b[0m\n\u001b[1;32m    806\u001b[0m       \u001b[0;31m# defunned version which is guaranteed to never create variables.\u001b[0m\u001b[0;34m\u001b[0m\u001b[0;34m\u001b[0m\u001b[0;34m\u001b[0m\u001b[0m\n\u001b[0;32m--> 807\u001b[0;31m       \u001b[0;32mreturn\u001b[0m \u001b[0mself\u001b[0m\u001b[0;34m.\u001b[0m\u001b[0m_stateless_fn\u001b[0m\u001b[0;34m(\u001b[0m\u001b[0;34m*\u001b[0m\u001b[0margs\u001b[0m\u001b[0;34m,\u001b[0m \u001b[0;34m**\u001b[0m\u001b[0mkwds\u001b[0m\u001b[0;34m)\u001b[0m  \u001b[0;31m# pylint: disable=not-callable\u001b[0m\u001b[0;34m\u001b[0m\u001b[0;34m\u001b[0m\u001b[0m\n\u001b[0m\u001b[1;32m    808\u001b[0m     \u001b[0;32melif\u001b[0m \u001b[0mself\u001b[0m\u001b[0;34m.\u001b[0m\u001b[0m_stateful_fn\u001b[0m \u001b[0;32mis\u001b[0m \u001b[0;32mnot\u001b[0m \u001b[0;32mNone\u001b[0m\u001b[0;34m:\u001b[0m\u001b[0;34m\u001b[0m\u001b[0;34m\u001b[0m\u001b[0m\n\u001b[1;32m    809\u001b[0m       \u001b[0;31m# Release the lock early so that multiple threads can perform the call\u001b[0m\u001b[0;34m\u001b[0m\u001b[0;34m\u001b[0m\u001b[0;34m\u001b[0m\u001b[0m\n",
            "\u001b[0;32m/usr/local/lib/python3.6/dist-packages/tensorflow/python/eager/function.py\u001b[0m in \u001b[0;36m__call__\u001b[0;34m(self, *args, **kwargs)\u001b[0m\n\u001b[1;32m   2827\u001b[0m     \u001b[0;32mwith\u001b[0m \u001b[0mself\u001b[0m\u001b[0;34m.\u001b[0m\u001b[0m_lock\u001b[0m\u001b[0;34m:\u001b[0m\u001b[0;34m\u001b[0m\u001b[0;34m\u001b[0m\u001b[0m\n\u001b[1;32m   2828\u001b[0m       \u001b[0mgraph_function\u001b[0m\u001b[0;34m,\u001b[0m \u001b[0margs\u001b[0m\u001b[0;34m,\u001b[0m \u001b[0mkwargs\u001b[0m \u001b[0;34m=\u001b[0m \u001b[0mself\u001b[0m\u001b[0;34m.\u001b[0m\u001b[0m_maybe_define_function\u001b[0m\u001b[0;34m(\u001b[0m\u001b[0margs\u001b[0m\u001b[0;34m,\u001b[0m \u001b[0mkwargs\u001b[0m\u001b[0;34m)\u001b[0m\u001b[0;34m\u001b[0m\u001b[0;34m\u001b[0m\u001b[0m\n\u001b[0;32m-> 2829\u001b[0;31m     \u001b[0;32mreturn\u001b[0m \u001b[0mgraph_function\u001b[0m\u001b[0;34m.\u001b[0m\u001b[0m_filtered_call\u001b[0m\u001b[0;34m(\u001b[0m\u001b[0margs\u001b[0m\u001b[0;34m,\u001b[0m \u001b[0mkwargs\u001b[0m\u001b[0;34m)\u001b[0m  \u001b[0;31m# pylint: disable=protected-access\u001b[0m\u001b[0;34m\u001b[0m\u001b[0;34m\u001b[0m\u001b[0m\n\u001b[0m\u001b[1;32m   2830\u001b[0m \u001b[0;34m\u001b[0m\u001b[0m\n\u001b[1;32m   2831\u001b[0m   \u001b[0;34m@\u001b[0m\u001b[0mproperty\u001b[0m\u001b[0;34m\u001b[0m\u001b[0;34m\u001b[0m\u001b[0m\n",
            "\u001b[0;32m/usr/local/lib/python3.6/dist-packages/tensorflow/python/eager/function.py\u001b[0m in \u001b[0;36m_filtered_call\u001b[0;34m(self, args, kwargs, cancellation_manager)\u001b[0m\n\u001b[1;32m   1846\u001b[0m                            resource_variable_ops.BaseResourceVariable))],\n\u001b[1;32m   1847\u001b[0m         \u001b[0mcaptured_inputs\u001b[0m\u001b[0;34m=\u001b[0m\u001b[0mself\u001b[0m\u001b[0;34m.\u001b[0m\u001b[0mcaptured_inputs\u001b[0m\u001b[0;34m,\u001b[0m\u001b[0;34m\u001b[0m\u001b[0;34m\u001b[0m\u001b[0m\n\u001b[0;32m-> 1848\u001b[0;31m         cancellation_manager=cancellation_manager)\n\u001b[0m\u001b[1;32m   1849\u001b[0m \u001b[0;34m\u001b[0m\u001b[0m\n\u001b[1;32m   1850\u001b[0m   \u001b[0;32mdef\u001b[0m \u001b[0m_call_flat\u001b[0m\u001b[0;34m(\u001b[0m\u001b[0mself\u001b[0m\u001b[0;34m,\u001b[0m \u001b[0margs\u001b[0m\u001b[0;34m,\u001b[0m \u001b[0mcaptured_inputs\u001b[0m\u001b[0;34m,\u001b[0m \u001b[0mcancellation_manager\u001b[0m\u001b[0;34m=\u001b[0m\u001b[0;32mNone\u001b[0m\u001b[0;34m)\u001b[0m\u001b[0;34m:\u001b[0m\u001b[0;34m\u001b[0m\u001b[0;34m\u001b[0m\u001b[0m\n",
            "\u001b[0;32m/usr/local/lib/python3.6/dist-packages/tensorflow/python/eager/function.py\u001b[0m in \u001b[0;36m_call_flat\u001b[0;34m(self, args, captured_inputs, cancellation_manager)\u001b[0m\n\u001b[1;32m   1922\u001b[0m       \u001b[0;31m# No tape is watching; skip to running the function.\u001b[0m\u001b[0;34m\u001b[0m\u001b[0;34m\u001b[0m\u001b[0;34m\u001b[0m\u001b[0m\n\u001b[1;32m   1923\u001b[0m       return self._build_call_outputs(self._inference_function.call(\n\u001b[0;32m-> 1924\u001b[0;31m           ctx, args, cancellation_manager=cancellation_manager))\n\u001b[0m\u001b[1;32m   1925\u001b[0m     forward_backward = self._select_forward_and_backward_functions(\n\u001b[1;32m   1926\u001b[0m         \u001b[0margs\u001b[0m\u001b[0;34m,\u001b[0m\u001b[0;34m\u001b[0m\u001b[0;34m\u001b[0m\u001b[0m\n",
            "\u001b[0;32m/usr/local/lib/python3.6/dist-packages/tensorflow/python/eager/function.py\u001b[0m in \u001b[0;36mcall\u001b[0;34m(self, ctx, args, cancellation_manager)\u001b[0m\n\u001b[1;32m    548\u001b[0m               \u001b[0minputs\u001b[0m\u001b[0;34m=\u001b[0m\u001b[0margs\u001b[0m\u001b[0;34m,\u001b[0m\u001b[0;34m\u001b[0m\u001b[0;34m\u001b[0m\u001b[0m\n\u001b[1;32m    549\u001b[0m               \u001b[0mattrs\u001b[0m\u001b[0;34m=\u001b[0m\u001b[0mattrs\u001b[0m\u001b[0;34m,\u001b[0m\u001b[0;34m\u001b[0m\u001b[0;34m\u001b[0m\u001b[0m\n\u001b[0;32m--> 550\u001b[0;31m               ctx=ctx)\n\u001b[0m\u001b[1;32m    551\u001b[0m         \u001b[0;32melse\u001b[0m\u001b[0;34m:\u001b[0m\u001b[0;34m\u001b[0m\u001b[0;34m\u001b[0m\u001b[0m\n\u001b[1;32m    552\u001b[0m           outputs = execute.execute_with_cancellation(\n",
            "\u001b[0;32m/usr/local/lib/python3.6/dist-packages/tensorflow/python/eager/execute.py\u001b[0m in \u001b[0;36mquick_execute\u001b[0;34m(op_name, num_outputs, inputs, attrs, ctx, name)\u001b[0m\n\u001b[1;32m     58\u001b[0m     \u001b[0mctx\u001b[0m\u001b[0;34m.\u001b[0m\u001b[0mensure_initialized\u001b[0m\u001b[0;34m(\u001b[0m\u001b[0;34m)\u001b[0m\u001b[0;34m\u001b[0m\u001b[0;34m\u001b[0m\u001b[0m\n\u001b[1;32m     59\u001b[0m     tensors = pywrap_tfe.TFE_Py_Execute(ctx._handle, device_name, op_name,\n\u001b[0;32m---> 60\u001b[0;31m                                         inputs, attrs, num_outputs)\n\u001b[0m\u001b[1;32m     61\u001b[0m   \u001b[0;32mexcept\u001b[0m \u001b[0mcore\u001b[0m\u001b[0;34m.\u001b[0m\u001b[0m_NotOkStatusException\u001b[0m \u001b[0;32mas\u001b[0m \u001b[0me\u001b[0m\u001b[0;34m:\u001b[0m\u001b[0;34m\u001b[0m\u001b[0;34m\u001b[0m\u001b[0m\n\u001b[1;32m     62\u001b[0m     \u001b[0;32mif\u001b[0m \u001b[0mname\u001b[0m \u001b[0;32mis\u001b[0m \u001b[0;32mnot\u001b[0m \u001b[0;32mNone\u001b[0m\u001b[0;34m:\u001b[0m\u001b[0;34m\u001b[0m\u001b[0;34m\u001b[0m\u001b[0m\n",
            "\u001b[0;31mKeyboardInterrupt\u001b[0m: "
          ]
        }
      ]
    },
    {
      "cell_type": "code",
      "metadata": {
        "id": "WjdNFySu7qhr",
        "outputId": "28480bd9-34a0-4f68-cb1a-a772ce980086",
        "colab": {
          "base_uri": "https://localhost:8080/"
        }
      },
      "source": [
        "!mkdir -p saved_model\n",
        "network2.save('saved_model/my_model_Epoch60_2layer') "
      ],
      "execution_count": 7,
      "outputs": [
        {
          "output_type": "stream",
          "text": [
            "WARNING:tensorflow:From /usr/local/lib/python3.6/dist-packages/tensorflow/python/training/tracking/tracking.py:111: Model.state_updates (from tensorflow.python.keras.engine.training) is deprecated and will be removed in a future version.\n",
            "Instructions for updating:\n",
            "This property should not be used in TensorFlow 2.0, as updates are applied automatically.\n",
            "WARNING:tensorflow:From /usr/local/lib/python3.6/dist-packages/tensorflow/python/training/tracking/tracking.py:111: Layer.updates (from tensorflow.python.keras.engine.base_layer) is deprecated and will be removed in a future version.\n",
            "Instructions for updating:\n",
            "This property should not be used in TensorFlow 2.0, as updates are applied automatically.\n",
            "INFO:tensorflow:Assets written to: saved_model/my_model_Epoch60_2layer/assets\n"
          ],
          "name": "stdout"
        }
      ]
    },
    {
      "cell_type": "code",
      "metadata": {
        "id": "GH3tS1Ab-Qe2",
        "outputId": "1b2ea691-5edf-433a-e928-406204fe9532",
        "colab": {
          "base_uri": "https://localhost:8080/"
        }
      },
      "source": [
        "network2.summary()"
      ],
      "execution_count": 12,
      "outputs": [
        {
          "output_type": "stream",
          "text": [
            "Model: \"sequential\"\n",
            "_________________________________________________________________\n",
            "Layer (type)                 Output Shape              Param #   \n",
            "=================================================================\n",
            "dense (Dense)                (None, 100)               2900      \n",
            "_________________________________________________________________\n",
            "batch_normalization (BatchNo (None, 100)               400       \n",
            "_________________________________________________________________\n",
            "dense_1 (Dense)              (None, 50)                5050      \n",
            "_________________________________________________________________\n",
            "batch_normalization_1 (Batch (None, 50)                200       \n",
            "_________________________________________________________________\n",
            "dense_2 (Dense)              (None, 2)                 102       \n",
            "=================================================================\n",
            "Total params: 8,652\n",
            "Trainable params: 8,352\n",
            "Non-trainable params: 300\n",
            "_________________________________________________________________\n"
          ],
          "name": "stdout"
        }
      ]
    },
    {
      "cell_type": "code",
      "metadata": {
        "id": "lXTdGeAGVNJu"
      },
      "source": [
        "# Save the weights\n",
        "network2.save_weights('./checkpoints/my_model_Epoch60_2layer')"
      ],
      "execution_count": 9,
      "outputs": []
    },
    {
      "cell_type": "code",
      "metadata": {
        "id": "x_dbTOtc9I8U"
      },
      "source": [
        ""
      ],
      "execution_count": null,
      "outputs": []
    },
    {
      "cell_type": "markdown",
      "metadata": {
        "id": "uI16WFHwOSZ5"
      },
      "source": [
        "# Loading the saved network to continue training"
      ]
    },
    {
      "cell_type": "code",
      "metadata": {
        "id": "j_g7C6kl-ZqA"
      },
      "source": [
        "new_model = tf.keras.models.load_model('saved_model/my_model_Epoch60_2layer')"
      ],
      "execution_count": 17,
      "outputs": []
    },
    {
      "cell_type": "code",
      "metadata": {
        "id": "8Irs3vDj-dJx",
        "outputId": "8f7a9f57-d077-4c81-a273-0ccb8639336a",
        "colab": {
          "base_uri": "https://localhost:8080/"
        }
      },
      "source": [
        "new_model.summary()"
      ],
      "execution_count": 18,
      "outputs": [
        {
          "output_type": "stream",
          "text": [
            "Model: \"sequential\"\n",
            "_________________________________________________________________\n",
            "Layer (type)                 Output Shape              Param #   \n",
            "=================================================================\n",
            "dense (Dense)                (None, 100)               2900      \n",
            "_________________________________________________________________\n",
            "batch_normalization (BatchNo (None, 100)               400       \n",
            "_________________________________________________________________\n",
            "dense_1 (Dense)              (None, 50)                5050      \n",
            "_________________________________________________________________\n",
            "batch_normalization_1 (Batch (None, 50)                200       \n",
            "_________________________________________________________________\n",
            "dense_2 (Dense)              (None, 2)                 102       \n",
            "=================================================================\n",
            "Total params: 8,652\n",
            "Trainable params: 8,352\n",
            "Non-trainable params: 300\n",
            "_________________________________________________________________\n"
          ],
          "name": "stdout"
        }
      ]
    },
    {
      "cell_type": "code",
      "metadata": {
        "id": "VXoNKl5Z-5mj",
        "outputId": "940592fc-7860-45e8-c917-3ebf280a264a",
        "colab": {
          "base_uri": "https://localhost:8080/"
        }
      },
      "source": [
        "history_new = new_model.fit(X_train,y_train,\n",
        "                  epochs=epochs,\n",
        "                  batch_size=batchnum,\n",
        "                  callbacks=callbacks, # Early stopping\n",
        "                  validation_data=(X_val,y_val),\n",
        "                    verbose = 1)"
      ],
      "execution_count": 19,
      "outputs": [
        {
          "output_type": "stream",
          "text": [
            "Epoch 1/100\n",
            "35200/35200 [==============================] - 91s 3ms/step - loss: 0.4879 - accuracy: 0.7591 - val_loss: 0.4855 - val_accuracy: 0.7608\n",
            "Epoch 2/100\n",
            "35200/35200 [==============================] - 92s 3ms/step - loss: 0.4876 - accuracy: 0.7594 - val_loss: 0.4858 - val_accuracy: 0.7607\n",
            "Epoch 3/100\n",
            "35200/35200 [==============================] - 93s 3ms/step - loss: 0.4875 - accuracy: 0.7594 - val_loss: 0.4854 - val_accuracy: 0.7604\n",
            "Epoch 4/100\n",
            "35200/35200 [==============================] - 93s 3ms/step - loss: 0.4873 - accuracy: 0.7594 - val_loss: 0.4852 - val_accuracy: 0.7610\n",
            "Epoch 5/100\n",
            "35200/35200 [==============================] - 91s 3ms/step - loss: 0.4872 - accuracy: 0.7597 - val_loss: 0.4851 - val_accuracy: 0.7609\n",
            "Epoch 6/100\n",
            "35200/35200 [==============================] - 91s 3ms/step - loss: 0.4871 - accuracy: 0.7597 - val_loss: 0.4848 - val_accuracy: 0.7612\n",
            "Epoch 7/100\n",
            "35200/35200 [==============================] - 92s 3ms/step - loss: 0.4870 - accuracy: 0.7597 - val_loss: 0.4840 - val_accuracy: 0.7616\n",
            "Epoch 8/100\n",
            "35200/35200 [==============================] - 91s 3ms/step - loss: 0.4870 - accuracy: 0.7598 - val_loss: 0.4841 - val_accuracy: 0.7612\n",
            "Epoch 9/100\n",
            "35200/35200 [==============================] - 91s 3ms/step - loss: 0.4868 - accuracy: 0.7600 - val_loss: 0.4834 - val_accuracy: 0.7615\n",
            "Epoch 10/100\n",
            "35200/35200 [==============================] - 93s 3ms/step - loss: 0.4867 - accuracy: 0.7598 - val_loss: 0.4841 - val_accuracy: 0.7616\n",
            "Epoch 11/100\n",
            "35200/35200 [==============================] - 92s 3ms/step - loss: 0.4867 - accuracy: 0.7600 - val_loss: 0.4833 - val_accuracy: 0.7617\n",
            "Epoch 12/100\n",
            "35200/35200 [==============================] - 92s 3ms/step - loss: 0.4865 - accuracy: 0.7601 - val_loss: 0.4841 - val_accuracy: 0.7616\n",
            "Epoch 13/100\n",
            "35200/35200 [==============================] - 92s 3ms/step - loss: 0.4865 - accuracy: 0.7601 - val_loss: 0.4855 - val_accuracy: 0.7604\n",
            "Epoch 14/100\n",
            "35200/35200 [==============================] - 92s 3ms/step - loss: 0.4863 - accuracy: 0.7602 - val_loss: 0.4828 - val_accuracy: 0.7618\n",
            "Epoch 15/100\n",
            "35200/35200 [==============================] - 92s 3ms/step - loss: 0.4863 - accuracy: 0.7601 - val_loss: 0.4828 - val_accuracy: 0.7621\n",
            "Epoch 16/100\n",
            "35200/35200 [==============================] - 92s 3ms/step - loss: 0.4862 - accuracy: 0.7601 - val_loss: 0.4843 - val_accuracy: 0.7612\n",
            "Epoch 17/100\n",
            "35200/35200 [==============================] - 92s 3ms/step - loss: 0.4861 - accuracy: 0.7602 - val_loss: 0.4833 - val_accuracy: 0.7616\n",
            "Epoch 18/100\n",
            "35200/35200 [==============================] - 91s 3ms/step - loss: 0.4860 - accuracy: 0.7603 - val_loss: 0.4831 - val_accuracy: 0.7620\n",
            "Epoch 19/100\n",
            "35200/35200 [==============================] - 92s 3ms/step - loss: 0.4859 - accuracy: 0.7605 - val_loss: 0.4830 - val_accuracy: 0.7623\n",
            "Epoch 20/100\n",
            "35200/35200 [==============================] - 92s 3ms/step - loss: 0.4857 - accuracy: 0.7604 - val_loss: 0.4839 - val_accuracy: 0.7618\n",
            "Epoch 21/100\n",
            "35200/35200 [==============================] - 92s 3ms/step - loss: 0.4858 - accuracy: 0.7605 - val_loss: 0.4832 - val_accuracy: 0.7622\n",
            "Epoch 22/100\n",
            "35200/35200 [==============================] - 92s 3ms/step - loss: 0.4856 - accuracy: 0.7605 - val_loss: 0.4829 - val_accuracy: 0.7620\n",
            "Epoch 23/100\n",
            "35200/35200 [==============================] - 92s 3ms/step - loss: 0.4855 - accuracy: 0.7607 - val_loss: 0.4818 - val_accuracy: 0.7631\n",
            "Epoch 24/100\n",
            "35200/35200 [==============================] - 93s 3ms/step - loss: 0.4855 - accuracy: 0.7607 - val_loss: 0.4830 - val_accuracy: 0.7623\n",
            "Epoch 25/100\n",
            "35200/35200 [==============================] - 93s 3ms/step - loss: 0.4854 - accuracy: 0.7608 - val_loss: 0.4822 - val_accuracy: 0.7624\n",
            "Epoch 26/100\n",
            "35200/35200 [==============================] - 94s 3ms/step - loss: 0.4854 - accuracy: 0.7608 - val_loss: 0.4827 - val_accuracy: 0.7621\n",
            "Epoch 27/100\n",
            "35200/35200 [==============================] - 96s 3ms/step - loss: 0.4853 - accuracy: 0.7607 - val_loss: 0.4825 - val_accuracy: 0.7624\n",
            "Epoch 28/100\n",
            "35200/35200 [==============================] - 94s 3ms/step - loss: 0.4853 - accuracy: 0.7608 - val_loss: 0.4833 - val_accuracy: 0.7621\n",
            "Epoch 29/100\n",
            "35200/35200 [==============================] - 96s 3ms/step - loss: 0.4852 - accuracy: 0.7609 - val_loss: 0.4839 - val_accuracy: 0.7616\n",
            "Epoch 30/100\n",
            "35200/35200 [==============================] - 99s 3ms/step - loss: 0.4851 - accuracy: 0.7610 - val_loss: 0.4815 - val_accuracy: 0.7630\n",
            "Epoch 31/100\n",
            "35200/35200 [==============================] - 100s 3ms/step - loss: 0.4850 - accuracy: 0.7610 - val_loss: 0.4809 - val_accuracy: 0.7637\n",
            "Epoch 32/100\n",
            "35200/35200 [==============================] - 99s 3ms/step - loss: 0.4850 - accuracy: 0.7611 - val_loss: 0.4818 - val_accuracy: 0.7629\n",
            "Epoch 33/100\n",
            "35200/35200 [==============================] - 98s 3ms/step - loss: 0.4849 - accuracy: 0.7611 - val_loss: 0.4843 - val_accuracy: 0.7608\n",
            "Epoch 34/100\n",
            "35200/35200 [==============================] - 98s 3ms/step - loss: 0.4848 - accuracy: 0.7612 - val_loss: 0.4856 - val_accuracy: 0.7607\n",
            "Epoch 35/100\n",
            "35200/35200 [==============================] - 97s 3ms/step - loss: 0.4849 - accuracy: 0.7611 - val_loss: 0.4814 - val_accuracy: 0.7630\n",
            "Epoch 36/100\n",
            "35200/35200 [==============================] - 100s 3ms/step - loss: 0.4847 - accuracy: 0.7612 - val_loss: 0.4819 - val_accuracy: 0.7628\n",
            "Epoch 37/100\n",
            "35200/35200 [==============================] - 98s 3ms/step - loss: 0.4847 - accuracy: 0.7614 - val_loss: 0.4827 - val_accuracy: 0.7623\n",
            "Epoch 38/100\n",
            "35200/35200 [==============================] - 95s 3ms/step - loss: 0.4846 - accuracy: 0.7612 - val_loss: 0.4816 - val_accuracy: 0.7633\n",
            "Epoch 39/100\n",
            "35200/35200 [==============================] - 95s 3ms/step - loss: 0.4846 - accuracy: 0.7613 - val_loss: 0.4807 - val_accuracy: 0.7638\n",
            "Epoch 40/100\n",
            "35200/35200 [==============================] - 96s 3ms/step - loss: 0.4845 - accuracy: 0.7613 - val_loss: 0.4813 - val_accuracy: 0.7634\n",
            "Epoch 41/100\n",
            "35200/35200 [==============================] - 94s 3ms/step - loss: 0.4844 - accuracy: 0.7613 - val_loss: 0.4822 - val_accuracy: 0.7627\n",
            "Epoch 42/100\n",
            "35200/35200 [==============================] - 93s 3ms/step - loss: 0.4844 - accuracy: 0.7613 - val_loss: 0.4814 - val_accuracy: 0.7629\n",
            "Epoch 43/100\n",
            "35200/35200 [==============================] - 94s 3ms/step - loss: 0.4843 - accuracy: 0.7614 - val_loss: 0.4812 - val_accuracy: 0.7634\n",
            "Epoch 44/100\n",
            "35200/35200 [==============================] - 93s 3ms/step - loss: 0.4843 - accuracy: 0.7613 - val_loss: 0.4823 - val_accuracy: 0.7622\n",
            "Epoch 45/100\n",
            "35200/35200 [==============================] - 94s 3ms/step - loss: 0.4843 - accuracy: 0.7613 - val_loss: 0.4814 - val_accuracy: 0.7633\n",
            "Epoch 46/100\n",
            "35200/35200 [==============================] - 94s 3ms/step - loss: 0.4842 - accuracy: 0.7616 - val_loss: 0.4823 - val_accuracy: 0.7623\n",
            "Epoch 47/100\n",
            "35200/35200 [==============================] - 95s 3ms/step - loss: 0.4841 - accuracy: 0.7615 - val_loss: 0.4844 - val_accuracy: 0.7614\n",
            "Epoch 48/100\n",
            "35200/35200 [==============================] - 95s 3ms/step - loss: 0.4842 - accuracy: 0.7616 - val_loss: 0.4817 - val_accuracy: 0.7631\n",
            "Epoch 49/100\n",
            "35200/35200 [==============================] - 94s 3ms/step - loss: 0.4841 - accuracy: 0.7616 - val_loss: 0.4802 - val_accuracy: 0.7639\n",
            "Epoch 50/100\n",
            "35200/35200 [==============================] - 94s 3ms/step - loss: 0.4840 - accuracy: 0.7617 - val_loss: 0.4823 - val_accuracy: 0.7629\n",
            "Epoch 51/100\n",
            "35200/35200 [==============================] - 93s 3ms/step - loss: 0.4841 - accuracy: 0.7615 - val_loss: 0.4802 - val_accuracy: 0.7634\n",
            "Epoch 52/100\n",
            "35200/35200 [==============================] - 93s 3ms/step - loss: 0.4840 - accuracy: 0.7616 - val_loss: 0.4806 - val_accuracy: 0.7640\n",
            "Epoch 53/100\n",
            "35200/35200 [==============================] - 94s 3ms/step - loss: 0.4839 - accuracy: 0.7615 - val_loss: 0.4814 - val_accuracy: 0.7635\n",
            "Epoch 54/100\n",
            "35200/35200 [==============================] - 93s 3ms/step - loss: 0.4838 - accuracy: 0.7617 - val_loss: 0.4808 - val_accuracy: 0.7639\n",
            "Epoch 55/100\n",
            "35200/35200 [==============================] - 93s 3ms/step - loss: 0.4838 - accuracy: 0.7617 - val_loss: 0.4822 - val_accuracy: 0.7631\n",
            "Epoch 56/100\n",
            "35200/35200 [==============================] - 93s 3ms/step - loss: 0.4838 - accuracy: 0.7617 - val_loss: 0.4805 - val_accuracy: 0.7641\n",
            "Epoch 57/100\n",
            "35200/35200 [==============================] - 93s 3ms/step - loss: 0.4838 - accuracy: 0.7616 - val_loss: 0.4800 - val_accuracy: 0.7642\n",
            "Epoch 58/100\n",
            "35200/35200 [==============================] - 95s 3ms/step - loss: 0.4838 - accuracy: 0.7618 - val_loss: 0.4799 - val_accuracy: 0.7642\n",
            "Epoch 59/100\n",
            "35200/35200 [==============================] - 95s 3ms/step - loss: 0.4836 - accuracy: 0.7618 - val_loss: 0.4812 - val_accuracy: 0.7634\n",
            "Epoch 60/100\n",
            "35200/35200 [==============================] - 92s 3ms/step - loss: 0.4836 - accuracy: 0.7618 - val_loss: 0.4814 - val_accuracy: 0.7633\n",
            "Epoch 61/100\n",
            "35200/35200 [==============================] - 91s 3ms/step - loss: 0.4836 - accuracy: 0.7618 - val_loss: 0.4804 - val_accuracy: 0.7638\n",
            "Epoch 62/100\n",
            "35200/35200 [==============================] - 91s 3ms/step - loss: 0.4836 - accuracy: 0.7619 - val_loss: 0.4799 - val_accuracy: 0.7642\n",
            "Epoch 63/100\n",
            "35200/35200 [==============================] - 92s 3ms/step - loss: 0.4835 - accuracy: 0.7618 - val_loss: 0.4826 - val_accuracy: 0.7629\n",
            "Epoch 64/100\n",
            "35200/35200 [==============================] - 91s 3ms/step - loss: 0.4835 - accuracy: 0.7619 - val_loss: 0.4805 - val_accuracy: 0.7639\n",
            "Epoch 65/100\n",
            "35200/35200 [==============================] - 91s 3ms/step - loss: 0.4834 - accuracy: 0.7620 - val_loss: 0.4812 - val_accuracy: 0.7634\n",
            "Epoch 66/100\n",
            "35200/35200 [==============================] - 92s 3ms/step - loss: 0.4835 - accuracy: 0.7618 - val_loss: 0.4799 - val_accuracy: 0.7645\n",
            "Epoch 67/100\n",
            "35200/35200 [==============================] - 91s 3ms/step - loss: 0.4834 - accuracy: 0.7618 - val_loss: 0.4796 - val_accuracy: 0.7644\n",
            "Epoch 68/100\n",
            "35200/35200 [==============================] - 91s 3ms/step - loss: 0.4833 - accuracy: 0.7621 - val_loss: 0.4812 - val_accuracy: 0.7633\n",
            "Epoch 69/100\n",
            "35200/35200 [==============================] - 91s 3ms/step - loss: 0.4832 - accuracy: 0.7620 - val_loss: 0.4811 - val_accuracy: 0.7634\n",
            "Epoch 70/100\n",
            "35200/35200 [==============================] - 92s 3ms/step - loss: 0.4833 - accuracy: 0.7621 - val_loss: 0.4811 - val_accuracy: 0.7635\n",
            "Epoch 71/100\n",
            "35200/35200 [==============================] - 91s 3ms/step - loss: 0.4832 - accuracy: 0.7620 - val_loss: 0.4804 - val_accuracy: 0.7642\n",
            "Epoch 72/100\n",
            "35200/35200 [==============================] - 91s 3ms/step - loss: 0.4832 - accuracy: 0.7621 - val_loss: 0.4814 - val_accuracy: 0.7631\n",
            "Epoch 73/100\n",
            "35200/35200 [==============================] - 91s 3ms/step - loss: 0.4831 - accuracy: 0.7621 - val_loss: 0.4805 - val_accuracy: 0.7637\n",
            "Epoch 74/100\n",
            "35200/35200 [==============================] - 91s 3ms/step - loss: 0.4832 - accuracy: 0.7621 - val_loss: 0.4800 - val_accuracy: 0.7639\n",
            "Epoch 75/100\n",
            "35200/35200 [==============================] - 91s 3ms/step - loss: 0.4830 - accuracy: 0.7622 - val_loss: 0.4804 - val_accuracy: 0.7641\n",
            "Epoch 76/100\n",
            "35200/35200 [==============================] - 91s 3ms/step - loss: 0.4830 - accuracy: 0.7623 - val_loss: 0.4796 - val_accuracy: 0.7643\n",
            "Epoch 77/100\n",
            "35200/35200 [==============================] - 92s 3ms/step - loss: 0.4830 - accuracy: 0.7620 - val_loss: 0.4810 - val_accuracy: 0.7636\n",
            "Epoch 78/100\n",
            "35200/35200 [==============================] - 94s 3ms/step - loss: 0.4829 - accuracy: 0.7622 - val_loss: 0.4812 - val_accuracy: 0.7632\n",
            "Epoch 79/100\n",
            "35200/35200 [==============================] - 94s 3ms/step - loss: 0.4828 - accuracy: 0.7624 - val_loss: 0.4810 - val_accuracy: 0.7634\n",
            "Epoch 80/100\n",
            "35200/35200 [==============================] - 94s 3ms/step - loss: 0.4830 - accuracy: 0.7621 - val_loss: 0.4802 - val_accuracy: 0.7638\n",
            "Epoch 81/100\n",
            "35200/35200 [==============================] - 91s 3ms/step - loss: 0.4829 - accuracy: 0.7621 - val_loss: 0.4791 - val_accuracy: 0.7645\n",
            "Epoch 82/100\n",
            "35200/35200 [==============================] - 93s 3ms/step - loss: 0.4828 - accuracy: 0.7624 - val_loss: 0.4832 - val_accuracy: 0.7616\n",
            "Epoch 83/100\n",
            "35200/35200 [==============================] - 93s 3ms/step - loss: 0.4827 - accuracy: 0.7623 - val_loss: 0.4794 - val_accuracy: 0.7644\n",
            "Epoch 84/100\n",
            "35200/35200 [==============================] - 95s 3ms/step - loss: 0.4827 - accuracy: 0.7623 - val_loss: 0.4810 - val_accuracy: 0.7634\n",
            "Epoch 85/100\n",
            "35200/35200 [==============================] - 95s 3ms/step - loss: 0.4828 - accuracy: 0.7623 - val_loss: 0.4789 - val_accuracy: 0.7648\n",
            "Epoch 86/100\n",
            "35200/35200 [==============================] - 94s 3ms/step - loss: 0.4827 - accuracy: 0.7624 - val_loss: 0.4789 - val_accuracy: 0.7647\n",
            "Epoch 87/100\n",
            "35200/35200 [==============================] - 96s 3ms/step - loss: 0.4826 - accuracy: 0.7624 - val_loss: 0.4804 - val_accuracy: 0.7632\n",
            "Epoch 88/100\n",
            "35200/35200 [==============================] - 95s 3ms/step - loss: 0.4826 - accuracy: 0.7624 - val_loss: 0.4806 - val_accuracy: 0.7636\n",
            "Epoch 89/100\n",
            "35200/35200 [==============================] - 95s 3ms/step - loss: 0.4826 - accuracy: 0.7624 - val_loss: 0.4798 - val_accuracy: 0.7643\n",
            "Epoch 90/100\n",
            "35200/35200 [==============================] - 92s 3ms/step - loss: 0.4825 - accuracy: 0.7625 - val_loss: 0.4803 - val_accuracy: 0.7637\n",
            "Epoch 91/100\n",
            "35200/35200 [==============================] - 92s 3ms/step - loss: 0.4825 - accuracy: 0.7624 - val_loss: 0.4805 - val_accuracy: 0.7639\n",
            "Epoch 92/100\n",
            "35200/35200 [==============================] - 94s 3ms/step - loss: 0.4825 - accuracy: 0.7626 - val_loss: 0.4795 - val_accuracy: 0.7644\n",
            "Epoch 93/100\n",
            "35200/35200 [==============================] - 93s 3ms/step - loss: 0.4825 - accuracy: 0.7625 - val_loss: 0.4786 - val_accuracy: 0.7650\n",
            "Epoch 94/100\n",
            "35200/35200 [==============================] - 93s 3ms/step - loss: 0.4824 - accuracy: 0.7627 - val_loss: 0.4812 - val_accuracy: 0.7634\n",
            "Epoch 95/100\n",
            "35200/35200 [==============================] - 93s 3ms/step - loss: 0.4823 - accuracy: 0.7625 - val_loss: 0.4823 - val_accuracy: 0.7623\n",
            "Epoch 96/100\n",
            "35200/35200 [==============================] - 92s 3ms/step - loss: 0.4823 - accuracy: 0.7626 - val_loss: 0.4786 - val_accuracy: 0.7651\n",
            "Epoch 97/100\n",
            "35200/35200 [==============================] - 94s 3ms/step - loss: 0.4823 - accuracy: 0.7626 - val_loss: 0.4786 - val_accuracy: 0.7652\n",
            "Epoch 98/100\n",
            "35200/35200 [==============================] - 93s 3ms/step - loss: 0.4822 - accuracy: 0.7628 - val_loss: 0.4797 - val_accuracy: 0.7644\n",
            "Epoch 99/100\n",
            "35200/35200 [==============================] - 92s 3ms/step - loss: 0.4822 - accuracy: 0.7626 - val_loss: 0.4792 - val_accuracy: 0.7647\n",
            "Epoch 100/100\n",
            "35200/35200 [==============================] - 92s 3ms/step - loss: 0.4822 - accuracy: 0.7627 - val_loss: 0.4794 - val_accuracy: 0.7649\n"
          ],
          "name": "stdout"
        }
      ]
    },
    {
      "cell_type": "code",
      "metadata": {
        "id": "GrhAO7oX_CMb",
        "outputId": "f19b607e-58e0-41d3-c4cf-2d232f01e695",
        "colab": {
          "base_uri": "https://localhost:8080/"
        }
      },
      "source": [
        "new_model.save('saved_model/my_model_Epoch160_2layer') "
      ],
      "execution_count": 20,
      "outputs": [
        {
          "output_type": "stream",
          "text": [
            "INFO:tensorflow:Assets written to: saved_model/my_model_Epoch160_2layer/assets\n"
          ],
          "name": "stdout"
        }
      ]
    },
    {
      "cell_type": "code",
      "metadata": {
        "id": "Lyrj54Yuk0eY"
      },
      "source": [
        "train_loss = history_new.history['loss']\n",
        "val_loss = history_new.history['val_loss']\n",
        "train_acc = history_new.history['accuracy']\n",
        "val_acc = history_new.history['val_accuracy']"
      ],
      "execution_count": 35,
      "outputs": []
    },
    {
      "cell_type": "markdown",
      "metadata": {
        "id": "VEgl5eI1OgVm"
      },
      "source": [
        "# Training curves"
      ]
    },
    {
      "cell_type": "code",
      "metadata": {
        "id": "rmlHqJHBmSzh",
        "outputId": "85c0593d-103f-46c2-fda1-888115f9f202",
        "colab": {
          "base_uri": "https://localhost:8080/",
          "height": 457
        }
      },
      "source": [
        "fig, axs = plt.subplots(1, 2,figsize=(8,6), constrained_layout = True)\n",
        "# fig.tight_layout()\n",
        "# axs[0, 0].plot(x, y)\n",
        "axs[0].set_title('Loss (Cross Entropy)')\n",
        "axs[1].set_title('Accuracy')\n",
        "# axs[0, 2].set_title('Confusion Matrix')\n",
        "a1 = axs[0].plot(np.linspace(60,159,100),train_loss)\n",
        "a2 = axs[0].plot(np.linspace(60,159,100),val_loss)\n",
        "b1 = axs[1].plot(np.linspace(60,159,100),train_acc, label ='Train')\n",
        "b2 = axs[1].plot(np.linspace(60,159,100),val_acc, label ='Validation')\n",
        "axs[0].set(xlabel='epochs', ylabel = 'Loss')\n",
        "axs[1].set(xlabel='epochs', ylabel = 'Accuracy')\n",
        "# axs[0].legend((a1, a2), ('oscillatory', 'damped'), loc='upper right', shadow=True)\n",
        "fig.suptitle('Training curves', fontsize=16)\n",
        "fig.legend(bbox_to_anchor=(.9, 1), loc='upper left')\n",
        "plt.show()\n",
        "# axs[-1, -1].axis('off')\n"
      ],
      "execution_count": 47,
      "outputs": [
        {
          "output_type": "display_data",
          "data": {
            "image/png": "[encoded data removed]",
            "text/plain": [
              "<Figure size 576x432 with 2 Axes>"
            ]
          },
          "metadata": {
            "tags": [],
            "needs_background": "light"
          }
        }
      ]
    },
    {
      "cell_type": "markdown",
      "metadata": {
        "id": "qw9Y6R7yOjIA"
      },
      "source": [
        "# Achieved test accuracy is 76.45%"
      ]
    },
    {
      "cell_type": "code",
      "metadata": {
        "id": "HV7ILp_bm65i",
        "outputId": "8c1f3c77-37c5-45d2-aabf-7c2692bd364f",
        "colab": {
          "base_uri": "https://localhost:8080/"
        }
      },
      "source": [
        "# evaluation of the test set/ \n",
        "# trained_network = tf.keras.models.load_model('saved_model/my_model_Epoch160_2layer/assets')\n",
        "test_loss, test_acc = new_model.evaluate(X_test,y_test)\n",
        "print('test loss = ', test_loss)\n",
        "print('test accuracy = ', test_acc)"
      ],
      "execution_count": 40,
      "outputs": [
        {
          "output_type": "stream",
          "text": [
            "55000/55000 [==============================] - 73s 1ms/step - loss: 0.4791 - accuracy: 0.7646\n",
            "test loss =  0.47906383872032166\n",
            "test accuracy =  0.7645642161369324\n"
          ],
          "name": "stdout"
        }
      ]
    },
    {
      "cell_type": "code",
      "metadata": {
        "id": "1Yc1p5mQpBbY"
      },
      "source": [
        "# Save the weights\n",
        "network2.save_weights('./checkpoints/my_model_Epoch160_2layer')"
      ],
      "execution_count": 41,
      "outputs": []
    },
    {
      "cell_type": "code",
      "metadata": {
        "id": "MVAQtnFGphtR"
      },
      "source": [
        "# looks like I need to make it deeper \n",
        "y_pred = new_model.predict(X_test)\n"
      ],
      "execution_count": 51,
      "outputs": []
    },
    {
      "cell_type": "code",
      "metadata": {
        "id": "rVgwsS99tvvs"
      },
      "source": [
        "y_p = np.argmax(y_pred, axis=1)"
      ],
      "execution_count": 72,
      "outputs": []
    },
    {
      "cell_type": "code",
      "metadata": {
        "id": "W1tdk23fuM_s"
      },
      "source": [
        "y_true = np.argmax(y_test, axis=1)"
      ],
      "execution_count": 74,
      "outputs": []
    },
    {
      "cell_type": "markdown",
      "metadata": {
        "id": "pC0idM87Ou3g"
      },
      "source": [
        "# ROC curve"
      ]
    },
    {
      "cell_type": "code",
      "metadata": {
        "id": "7Klz9eo_tex-"
      },
      "source": [
        "fpr_keras, tpr_keras, thresholds_keras = roc_curve(y_true,y_p )"
      ],
      "execution_count": 75,
      "outputs": []
    },
    {
      "cell_type": "code",
      "metadata": {
        "id": "f5oR9V5nuzmO"
      },
      "source": [
        "from sklearn.metrics import auc\n",
        "auc_keras = auc(fpr_keras, tpr_keras)"
      ],
      "execution_count": 77,
      "outputs": []
    },
    {
      "cell_type": "code",
      "metadata": {
        "id": "jLPZf5ESua5g",
        "outputId": "3868072c-bacb-471d-e27c-35791b820d20",
        "colab": {
          "base_uri": "https://localhost:8080/",
          "height": 295
        }
      },
      "source": [
        "plt.figure(1)\n",
        "plt.plot([0, 1], [0, 1], 'k--')\n",
        "plt.plot(fpr_keras, tpr_keras, label='Keras (area = {:.3f})'.format(auc_keras))\n",
        "# plt.plot(fpr_rf, tpr_rf, label='RF (area = {:.3f})'.format(auc_rf))\n",
        "plt.xlabel('False positive rate')\n",
        "plt.ylabel('True positive rate')\n",
        "plt.title('ROC curve')\n",
        "plt.legend(loc='best')\n",
        "plt.show()\n"
      ],
      "execution_count": 84,
      "outputs": [
        {
          "output_type": "display_data",
          "data": {
            "image/png": "[encoded data removed]",
            "text/plain": [
              "<Figure size 432x288 with 1 Axes>"
            ]
          },
          "metadata": {
            "tags": [],
            "needs_background": "light"
          }
        }
      ]
    },
    {
      "cell_type": "markdown",
      "metadata": {
        "id": "e0b6n6E3OzoQ"
      },
      "source": [
        "# Confusion Matrix"
      ]
    },
    {
      "cell_type": "code",
      "metadata": {
        "id": "D9r7Nerru86Z",
        "outputId": "3f03901c-6f87-4fca-8fd7-a8c371024c9a",
        "colab": {
          "base_uri": "https://localhost:8080/",
          "height": 513
        }
      },
      "source": [
        "import pandas as pd\n",
        "from sklearn.metrics import confusion_matrix\n",
        "ConfMat = confusion_matrix(y_true, y_p)\n",
        "import seaborn as sns\n",
        "confMat = np.transpose(ConfMat)\n",
        "df_cm = pd.DataFrame(ConfMat)\n",
        "plt.figure(figsize = (10,8))\n",
        "# plt.imshow(ConfMat, cmap = 'hot')\n",
        "plt.xlabel('Preidcted')\n",
        "plt.ylabel('true')\n",
        "ax = sns.heatmap(df_cm, annot=True)\n",
        "ax.set(title = 'Confusion Matrix Test Set - Test Accuracy = ' + str(acc_perc), xlabel = 'True', ylabel = 'Predicted')\n",
        "plt.show()"
      ],
      "execution_count": 80,
      "outputs": [
        {
          "output_type": "display_data",
          "data": {
            "image/png": "[encoded data removed]",
            "text/plain": [
              "<Figure size 720x576 with 2 Axes>"
            ]
          },
          "metadata": {
            "tags": [],
            "needs_background": "light"
          }
        }
      ]
    },
    {
      "cell_type": "markdown",
      "metadata": {
        "id": "79xsjuMmO3dz"
      },
      "source": [
        "# The weights"
      ]
    },
    {
      "cell_type": "code",
      "metadata": {
        "id": "7D-hlY_YwzDq"
      },
      "source": [
        "weights = new_model.get_weights() # returs a numpy list of weights"
      ],
      "execution_count": 81,
      "outputs": []
    },
    {
      "cell_type": "code",
      "metadata": {
        "id": "q0EeiK1sztc-",
        "outputId": "32cfa5d9-10a0-4004-b819-a0c2cdcd54c3",
        "colab": {
          "base_uri": "https://localhost:8080/"
        }
      },
      "source": [
        "weights"
      ],
      "execution_count": 82,
      "outputs": [
        {
          "output_type": "execute_result",
          "data": {
            "text/plain": [
              "[array([[-1.7444645e+00, -6.2386765e+00, -9.0752544e+00, ...,\n",
              "         -3.0399135e-01,  9.9945354e+00, -9.1001499e-01],\n",
              "        [-4.5060122e-01,  4.1104037e-02, -1.1558397e-01, ...,\n",
              "          1.0779789e-01, -1.8239704e-01, -4.5899105e-01],\n",
              "        [ 9.9148095e-02,  2.3816034e-02,  6.3462727e-02, ...,\n",
              "         -1.5613812e+00,  5.1555686e-02,  2.0579509e-02],\n",
              "        ...,\n",
              "        [ 3.9474950e+00,  4.4988327e+00,  7.1955118e+00, ...,\n",
              "         -2.3910403e+00, -6.9937630e+00,  1.7121145e+00],\n",
              "        [ 1.7057006e+00, -1.4898019e+00, -7.8688722e+00, ...,\n",
              "          1.0228867e-01, -3.4054691e+01, -4.1652465e+00],\n",
              "        [-2.6808276e+00,  2.0458641e+00,  6.4351039e+00, ...,\n",
              "         -4.1095659e-01, -1.7445477e+00, -2.3369452e+01]], dtype=float32),\n",
              " array([-2.0025973e+00, -4.4018579e+00, -7.7930099e-01,  2.7984743e+00,\n",
              "        -1.7082442e+00, -4.6774578e+00,  3.7681906e+00, -5.3167887e+00,\n",
              "        -2.4920139e+00,  4.3044281e+00,  3.9430623e+00, -3.5851946e+00,\n",
              "         6.1143047e-01, -2.6943417e+00,  6.1291628e+00,  2.8639905e+00,\n",
              "        -4.7669344e+00,  2.2892463e-01,  5.9590645e+00, -3.4106064e+00,\n",
              "         4.5240793e-01,  2.6039598e+00,  1.9237199e+00, -4.1067591e+00,\n",
              "        -3.8623943e+00, -4.6966343e+00, -1.5953182e+00,  5.6769786e+00,\n",
              "         9.7950659e+00,  2.0893250e-01,  3.0653636e+00, -2.2718501e+00,\n",
              "         2.8837047e+00,  2.7677355e+00, -9.0027819e+00,  1.2248167e+00,\n",
              "        -2.9458013e+00, -1.4332285e+00, -4.6746020e+00,  4.7111712e+00,\n",
              "        -8.8282597e-01, -1.5822631e-01,  4.2687092e+00,  3.9817343e+00,\n",
              "         4.1896830e+00,  3.8491988e+00,  6.8698478e-01,  2.3137968e+00,\n",
              "        -1.7284871e+00,  7.7244892e+00, -1.0102548e+01, -3.8203399e+00,\n",
              "         3.6017389e+00, -1.5609701e+00, -5.0234966e-02,  5.1477633e+00,\n",
              "         5.7583857e+00, -7.0836778e+00, -3.8697579e+00,  4.5649691e+00,\n",
              "        -2.4386806e+00,  1.6900213e+00, -5.3721924e+00, -1.8684365e-01,\n",
              "         2.3544693e+00,  1.8282176e+00, -4.4412088e-01,  3.9430697e+00,\n",
              "        -2.4516835e+00, -1.5327357e+00,  2.2063923e+00, -8.4558141e-01,\n",
              "         5.0316054e-01, -3.6557078e+00, -2.4339949e-01,  2.6021602e+00,\n",
              "         2.3073118e+00, -1.4570019e+00, -3.2664380e+00,  2.1813765e+00,\n",
              "         8.8867146e-01,  5.0789895e+00,  3.9608829e+00,  4.4254818e+00,\n",
              "         2.3603153e+00, -3.5937808e+00, -6.3263769e+00,  7.6911058e+00,\n",
              "        -4.7357464e+00,  1.4215965e+00, -2.8323474e+00,  7.4829078e+00,\n",
              "         8.5243807e+00,  1.9139184e+00,  5.1021585e+00, -9.6932687e-03,\n",
              "        -2.2131646e+00,  4.9830861e+00,  5.9537178e-01, -2.6519647e+00],\n",
              "       dtype=float32),\n",
              " array([ 0.19371344,  0.6471878 ,  0.3696812 ,  1.0783223 ,  0.8431232 ,\n",
              "         0.76668596,  0.6250302 ,  0.3801783 ,  0.33845744,  0.5605958 ,\n",
              "         0.76656276,  0.5999083 , -0.26594844,  0.35679245,  0.51799905,\n",
              "         0.46467286,  0.6502099 ,  0.5316796 ,  1.0396327 ,  0.22352938,\n",
              "         0.39279777,  2.6870646 ,  0.81504923,  0.7804712 ,  0.5713527 ,\n",
              "         0.5233424 ,  2.5067234 ,  1.6883361 ,  0.32544634,  0.7304953 ,\n",
              "         0.6261315 ,  0.33468336,  1.9404646 ,  0.647865  ,  0.47708127,\n",
              "         0.50348973,  0.14393611,  0.77057296,  0.22001173,  0.26964954,\n",
              "         0.33620209,  0.81629795, -1.8350235 ,  1.4845809 ,  0.44421113,\n",
              "         0.2588246 ,  0.7803098 ,  0.6554261 ,  0.38888428,  1.8694144 ,\n",
              "        -0.3682247 , -0.6585734 ,  1.1193262 ,  0.35453483,  0.37975243,\n",
              "         1.1338196 ,  0.31891963,  0.82717466,  1.3355253 ,  0.45027697,\n",
              "         0.40529957,  0.1747995 ,  1.4979825 ,  0.29231966,  0.42297274,\n",
              "         0.64639217,  0.31853244,  0.2119908 ,  1.6920587 ,  0.24452278,\n",
              "         0.6537926 ,  0.5590634 ,  0.2740215 ,  0.27549398,  0.27395463,\n",
              "         0.23108566,  0.91622317,  0.64214355,  1.9788837 ,  0.58782226,\n",
              "         0.36190793,  0.62292254,  0.6080486 ,  0.40241253,  0.29684126,\n",
              "         0.6637363 ,  0.74756294,  0.39254028,  0.43567312,  0.9919141 ,\n",
              "         0.43092155,  1.1050774 , -0.42142645,  0.5063344 ,  1.3214155 ,\n",
              "         0.48361945,  0.41039965, -1.2253186 ,  0.3672787 ,  0.4074665 ],\n",
              "       dtype=float32),\n",
              " array([ 0.0077867 ,  0.01160066,  0.01333846,  0.01657592, -0.03516105,\n",
              "         0.00628818, -0.03077301, -0.00624536,  0.02647976, -0.02532075,\n",
              "         0.02160446, -0.02815035,  0.01064059, -0.00372337, -0.15516643,\n",
              "         0.03564218,  0.01867798, -0.03873364, -0.01966901,  0.02189539,\n",
              "         0.01168857, -0.04430873,  0.04438546,  0.01453828,  0.00517456,\n",
              "         0.02477209, -0.01049346, -0.00941424, -0.02249762,  0.00119809,\n",
              "         0.00113834, -0.01789653, -0.05093851, -0.02053205,  0.00103925,\n",
              "         0.0171504 ,  0.00968657, -0.04000497,  0.03174635, -0.04254429,\n",
              "        -0.00492797,  0.06125575,  0.00523919, -0.00094995, -0.03818185,\n",
              "        -0.01035961, -0.02726114,  0.0132093 ,  0.00698004, -0.02840848,\n",
              "        -0.00805537,  0.00488057, -0.07325333, -0.02318339, -0.03140945,\n",
              "        -0.00195744, -0.00404353,  0.02631491, -0.05009579, -0.02306457,\n",
              "        -0.0005382 , -0.00290734,  0.00979333, -0.04168484, -0.04651866,\n",
              "        -0.00125229,  0.00548539, -0.00656943,  0.0350877 , -0.03563992,\n",
              "        -0.00573632,  0.01827479,  0.01443153,  0.00187273,  0.00265389,\n",
              "         0.00156267, -0.02999931, -0.01711064,  0.01008458, -0.04345955,\n",
              "         0.01582415, -0.04242992, -0.08218269, -0.03291371, -0.00455152,\n",
              "         0.08557563,  0.04121737, -0.02559758,  0.02977993,  0.04581928,\n",
              "         0.02054657, -0.01439756,  0.00200586, -0.00511625, -0.00892161,\n",
              "         0.01052993,  0.01189037,  0.00256203, -0.01367748, -0.00755559],\n",
              "       dtype=float32),\n",
              " array([3.3338982e-01, 7.2521945e-03, 4.2388294e-02, 9.9122924e-01,\n",
              "        7.6022767e-03, 1.6210094e-02, 3.5446349e-01, 1.4823872e-01,\n",
              "        2.9670479e-02, 9.8475283e-01, 9.7888213e-01, 3.3498906e-02,\n",
              "        7.8332311e-01, 1.6904783e-02, 5.5941415e-01, 9.6574581e-01,\n",
              "        1.7563794e-02, 9.8394477e-01, 9.9701434e-01, 1.4530586e-01,\n",
              "        7.8999668e-01, 9.9632221e-01, 9.7925919e-01, 5.4776715e-03,\n",
              "        2.7335279e-02, 1.9869559e-02, 7.3298224e-04, 9.9031669e-01,\n",
              "        9.1567153e-01, 5.7610083e-01, 9.8260581e-01, 4.1301202e-02,\n",
              "        9.8982108e-01, 9.8136479e-01, 4.2721331e-03, 9.9270815e-01,\n",
              "        9.2824042e-01, 1.6320543e-02, 1.6064607e-01, 8.6109447e-01,\n",
              "        7.7000684e-01, 5.4756492e-01, 9.9938989e-01, 9.9661726e-01,\n",
              "        9.6245265e-01, 8.1470746e-01, 4.5363390e-01, 9.8292238e-01,\n",
              "        2.5606183e-02, 9.9796635e-01, 5.3732288e-03, 1.0357019e-02,\n",
              "        9.8257399e-01, 7.4119854e-01, 6.7713672e-01, 9.8625565e-01,\n",
              "        6.6267014e-01, 5.1580407e-03, 1.3188260e-02, 9.8319584e-01,\n",
              "        1.5587487e-02, 9.2596871e-01, 9.7790295e-03, 9.6496135e-01,\n",
              "        9.8100948e-01, 9.8370862e-01, 3.4660363e-01, 8.2080948e-01,\n",
              "        8.6734053e-03, 7.2333050e-01, 9.9115950e-01, 5.2044058e-01,\n",
              "        3.3288905e-01, 3.8511936e-02, 2.5921848e-01, 9.8392010e-01,\n",
              "        9.8040432e-01, 4.9327582e-02, 8.3340210e-04, 9.4068193e-01,\n",
              "        3.1875059e-01, 9.8673373e-01, 5.2272642e-01, 9.7140372e-01,\n",
              "        9.3008602e-01, 5.4328674e-01, 4.6992842e-03, 9.8622411e-01,\n",
              "        7.1866284e-03, 9.5758253e-01, 6.3956338e-01, 9.9586511e-01,\n",
              "        9.9438131e-01, 9.9054849e-01, 9.9242210e-01, 6.5756673e-01,\n",
              "        1.5085560e-01, 9.9240541e-01, 2.3231788e-01, 8.9680748e-03],\n",
              "       dtype=float32),\n",
              " array([1.8291244e-01, 7.8825222e-05, 7.0862746e-04, 5.8806345e-05,\n",
              "        5.6985122e-05, 2.5295038e-04, 3.7775803e-02, 4.1468911e-02,\n",
              "        4.3054001e-04, 2.1558529e-04, 8.3024686e-05, 8.0926879e-04,\n",
              "        3.6424402e-02, 2.2874368e-04, 8.0132492e-02, 2.0678587e-04,\n",
              "        2.4527864e-04, 4.3602148e-04, 6.6657318e-05, 6.5040663e-02,\n",
              "        5.3815223e-02, 2.2915096e-05, 2.5551365e-04, 2.7144562e-05,\n",
              "        5.2817713e-04, 4.3307565e-04, 1.0364603e-06, 9.5440817e-05,\n",
              "        3.7103534e-02, 1.7439459e-01, 1.3233221e-04, 2.0723590e-03,\n",
              "        3.3497316e-05, 2.4480780e-04, 1.5092900e-04, 2.7853280e-04,\n",
              "        8.7598488e-03, 1.6021878e-04, 2.4897888e-02, 4.4624679e-02,\n",
              "        2.5052395e-02, 1.8325226e-01, 1.0846733e-06, 2.3105360e-05,\n",
              "        4.0220929e-04, 7.0422731e-02, 1.8615229e-01, 2.5250347e-04,\n",
              "        5.5929215e-04, 4.4011816e-05, 2.8742218e-04, 5.2452571e-05,\n",
              "        8.3777333e-05, 1.0076077e-01, 3.7340634e-02, 6.3123982e-05,\n",
              "        1.8070047e-01, 2.8743627e-04, 8.5060710e-05, 3.3141408e-04,\n",
              "        1.5520037e-04, 6.4361477e-03, 1.1027602e-04, 1.6713931e-03,\n",
              "        7.3809910e-04, 2.3434519e-04, 3.1585630e-02, 8.8519290e-02,\n",
              "        4.1598254e-05, 8.0542259e-02, 9.2688650e-05, 1.8676445e-01,\n",
              "        8.3386384e-02, 5.9344678e-04, 6.4371563e-02, 5.7832297e-04,\n",
              "        3.0818785e-04, 7.0302095e-04, 2.1427447e-06, 6.6114584e-04,\n",
              "        4.0426377e-02, 7.0875511e-05, 8.6840130e-02, 1.2570939e-02,\n",
              "        2.6019793e-03, 4.1574739e-02, 5.5423670e-04, 2.4354777e-03,\n",
              "        2.7005564e-04, 7.5277599e-04, 6.0168605e-02, 6.7989553e-05,\n",
              "        2.7318072e-04, 1.3485448e-04, 4.7932943e-05, 2.6275977e-02,\n",
              "        4.3196566e-02, 3.3573680e-05, 3.0100809e-02, 1.2485051e-04],\n",
              "       dtype=float32),\n",
              " array([[ 0.83370155, -0.0244123 ,  0.06753842, ...,  0.34094903,\n",
              "         -0.7112635 , -0.01315058],\n",
              "        [-1.7073911 , -1.4824772 , -0.985785  , ...,  2.443208  ,\n",
              "          0.12378697,  0.6065128 ],\n",
              "        [-2.5131395 , -1.154419  , -0.4672849 , ..., -1.4500581 ,\n",
              "         -2.2308216 ,  2.276559  ],\n",
              "        ...,\n",
              "        [ 1.359455  ,  0.75764585,  0.2771214 , ...,  1.1184089 ,\n",
              "         -0.47230318,  0.3592968 ],\n",
              "        [-1.6951311 ,  1.5014689 , -1.595821  , ...,  2.3812559 ,\n",
              "          3.9118123 , -0.05977003],\n",
              "        [ 1.2088311 , -0.82539463, -0.68345183, ..., -2.8119144 ,\n",
              "         -0.79960674, -0.03087298]], dtype=float32),\n",
              " array([-5.211827  , -0.8139059 ,  0.50702196,  2.3803017 ,  2.7883146 ,\n",
              "        -2.3014061 ,  0.40717515, -1.5204073 , -1.0844553 , -1.2755399 ,\n",
              "        -1.2561293 ,  3.3165112 , -4.4902644 , -2.5229495 ,  1.5893997 ,\n",
              "         4.7167177 ,  5.3475285 , -0.4332618 , -5.0760617 ,  0.10826983,\n",
              "        -1.2149733 ,  2.8006382 , -1.9725038 ,  3.897972  , -1.0538983 ,\n",
              "        -2.036397  ,  2.544636  ,  2.0581586 ,  1.0981532 , -0.025617  ,\n",
              "        -1.7886206 ,  0.6048691 , -0.8027458 ,  1.697794  ,  2.6711864 ,\n",
              "         6.202442  , -0.22243765, -1.268328  , -1.5908986 , -0.34702134,\n",
              "         0.5115451 ,  0.45626312,  2.272295  ,  1.1709626 , -4.4837875 ,\n",
              "         1.8866367 ,  4.346546  ,  1.5684469 ,  2.893127  , -1.2975506 ],\n",
              "       dtype=float32),\n",
              " array([ 0.4148454 ,  0.653622  ,  0.8479393 ,  0.64250416,  0.5052328 ,\n",
              "         0.68732667,  0.49185392,  0.7171132 ,  0.9876803 ,  0.49994674,\n",
              "         0.7305879 ,  0.5961932 ,  0.49648595,  0.38387054,  0.58717716,\n",
              "         0.49012306,  0.6584269 ,  0.7331914 , -0.3975165 ,  0.53092855,\n",
              "         0.4305749 ,  0.54840577, -0.61710614,  0.7456962 ,  0.26863402,\n",
              "         0.64011276,  0.26778045,  0.565958  ,  0.5083293 ,  0.45905468,\n",
              "         0.5484295 , -0.534265  ,  0.7865014 ,  0.5747372 ,  0.4670407 ,\n",
              "        -0.35555112,  0.6475297 ,  0.68889123,  0.57743305,  0.55552036,\n",
              "         0.6261109 ,  0.5498094 ,  0.47751412,  0.8853979 , -0.64465886,\n",
              "         0.45127732, -0.4846029 ,  0.68469554,  0.5855615 ,  0.7526489 ],\n",
              "       dtype=float32),\n",
              " array([-2.08807853e-03,  1.96191724e-02,  6.51561916e-02,  8.64277768e-04,\n",
              "        -1.39433788e-02,  1.83134302e-02,  5.67169860e-03, -2.45186985e-02,\n",
              "        -4.88935858e-02, -1.26417046e-02,  1.98843312e-02,  4.84824181e-02,\n",
              "        -1.64494663e-03,  3.69436643e-03, -1.77737903e-02, -9.84997209e-03,\n",
              "         1.19707100e-02,  2.81936862e-02,  5.27096307e-03,  1.18171657e-02,\n",
              "         3.41996551e-03, -4.84574623e-02, -2.57705781e-03, -4.29044329e-02,\n",
              "        -2.07139691e-03, -5.17492741e-02, -4.42287652e-03,  4.13486268e-03,\n",
              "         3.58808264e-02, -2.20383555e-02, -6.88074017e-03,  1.72351655e-02,\n",
              "         3.53682898e-02, -1.91709269e-02,  2.34574378e-02,  8.83279741e-03,\n",
              "         3.02831642e-02, -3.11473683e-02,  2.83781830e-02,  4.35558194e-03,\n",
              "         4.79807183e-02, -9.52593517e-03, -1.11280335e-02,  4.64751981e-02,\n",
              "        -3.86408009e-02, -5.59354015e-03,  1.12598343e-02, -7.24511701e-05,\n",
              "        -1.15714001e-03, -1.59469042e-02], dtype=float32),\n",
              " array([0.11619876, 0.5064976 , 0.5915373 , 0.7736261 , 0.86726767,\n",
              "        0.20428976, 0.48329484, 0.3772155 , 0.40101424, 0.42207387,\n",
              "        0.36144727, 0.83636934, 0.17941646, 0.29137275, 0.7951156 ,\n",
              "        0.946723  , 0.95849013, 0.40444028, 0.06193112, 0.48039714,\n",
              "        0.43343917, 0.88659656, 0.3966785 , 0.9007733 , 0.48524773,\n",
              "        0.24825959, 0.6768484 , 0.6931605 , 0.68089694, 0.5151255 ,\n",
              "        0.37778065, 0.5118564 , 0.32809442, 0.6355873 , 0.7474985 ,\n",
              "        0.9615174 , 0.37577814, 0.3901661 , 0.37194237, 0.5268293 ,\n",
              "        0.5859337 , 0.6829003 , 0.7977732 , 0.662774  , 0.06874502,\n",
              "        0.6784962 , 0.9409614 , 0.53874695, 0.593661  , 0.41887662],\n",
              "       dtype=float32),\n",
              " array([0.05405534, 0.19143955, 0.17476507, 0.09598064, 0.06078423,\n",
              "        0.09229746, 0.15855964, 0.15074201, 0.15333457, 0.16987686,\n",
              "        0.14803432, 0.08530952, 0.09214203, 0.13411963, 0.07037801,\n",
              "        0.01184181, 0.00519492, 0.14557467, 0.02641036, 0.16634606,\n",
              "        0.15893413, 0.03092867, 0.17991304, 0.04157697, 0.21560436,\n",
              "        0.12431657, 0.18406364, 0.13866961, 0.16095681, 0.17239945,\n",
              "        0.15009162, 0.18041117, 0.13241808, 0.15681894, 0.08777501,\n",
              "        0.01644089, 0.16114503, 0.16333602, 0.16247968, 0.18686129,\n",
              "        0.1306894 , 0.08832481, 0.09397262, 0.13714202, 0.02533574,\n",
              "        0.16702615, 0.02469006, 0.18576375, 0.18705614, 0.17109047],\n",
              "       dtype=float32),\n",
              " array([[-0.333519  ,  0.02341281],\n",
              "        [ 0.3444651 , -0.24977538],\n",
              "        [-0.58704764,  0.19369371],\n",
              "        [-0.02721328, -0.59770346],\n",
              "        [ 0.45399365,  0.02644453],\n",
              "        [-0.33661124,  0.25865573],\n",
              "        [ 0.15951312, -0.26627514],\n",
              "        [-0.2575021 ,  0.38256234],\n",
              "        [ 0.3223168 , -0.5646764 ],\n",
              "        [-0.17485894,  0.25055182],\n",
              "        [-0.28710973,  0.35567516],\n",
              "        [ 0.06074511, -0.47591054],\n",
              "        [-0.07601742,  0.3457447 ],\n",
              "        [ 0.40202725,  0.07663842],\n",
              "        [-0.32464847,  0.16500583],\n",
              "        [-0.36867905,  0.02253494],\n",
              "        [-0.5512148 ,  0.02145106],\n",
              "        [ 0.37969646, -0.2631868 ],\n",
              "        [ 0.01726363, -0.32283702],\n",
              "        [ 0.36578092, -0.11301189],\n",
              "        [ 0.02575634,  0.3798549 ],\n",
              "        [ 0.27064365, -0.16772148],\n",
              "        [ 0.2536594 , -0.28585818],\n",
              "        [-0.47315073,  0.11002853],\n",
              "        [ 0.18176551,  0.39852002],\n",
              "        [ 0.29603806, -0.26403213],\n",
              "        [ 0.0907028 ,  0.33069503],\n",
              "        [-0.20541209,  0.29518142],\n",
              "        [-0.27960974,  0.17345387],\n",
              "        [ 0.03713597, -0.36434442],\n",
              "        [-0.31673008,  0.1657226 ],\n",
              "        [-0.06377584,  0.3899323 ],\n",
              "        [-0.23168929,  0.44265163],\n",
              "        [ 0.08718171, -0.4150933 ],\n",
              "        [-0.03092346, -0.42801514],\n",
              "        [ 0.3902954 ,  0.12438019],\n",
              "        [ 0.18739422, -0.37221885],\n",
              "        [-0.45748112,  0.16777691],\n",
              "        [-0.4129131 ,  0.09567624],\n",
              "        [ 0.36788842, -0.11370892],\n",
              "        [-0.45647433,  0.09228262],\n",
              "        [ 0.36192462, -0.1220713 ],\n",
              "        [ 0.25651643, -0.15927456],\n",
              "        [-0.38271946,  0.41459495],\n",
              "        [-0.3534726 ,  0.1173882 ],\n",
              "        [ 0.01699434,  0.42042577],\n",
              "        [ 0.34673274, -0.04939307],\n",
              "        [ 0.12455454, -0.4857611 ],\n",
              "        [-0.24598378,  0.27201584],\n",
              "        [-0.16079623,  0.49187848]], dtype=float32),\n",
              " array([-0.03719006,  0.03714098], dtype=float32)]"
            ]
          },
          "metadata": {
            "tags": []
          },
          "execution_count": 82
        }
      ]
    },
    {
      "cell_type": "code",
      "metadata": {
        "id": "2VrFBYm2zuTz"
      },
      "source": [
        ""
      ],
      "execution_count": null,
      "outputs": []
    }
  ]
}